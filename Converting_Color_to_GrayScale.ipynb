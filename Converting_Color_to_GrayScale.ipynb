{
 "cells": [
  {
   "cell_type": "code",
   "execution_count": 1,
   "metadata": {},
   "outputs": [
    {
     "name": "stdout",
     "output_type": "stream",
     "text": [
      "Requirement already satisfied: opencv-python in c:\\users\\z014413\\anaconda3\\lib\\site-packages (4.2.0.34)\n",
      "Requirement already satisfied: numpy>=1.14.5 in c:\\users\\z014413\\anaconda3\\lib\\site-packages (from opencv-python) (1.18.1)\n"
     ]
    }
   ],
   "source": [
    "!pip install opencv-python"
   ]
  },
  {
   "cell_type": "code",
   "execution_count": 4,
   "metadata": {},
   "outputs": [],
   "source": [
    "import cv2\n",
    "import numpy as np"
   ]
  },
  {
   "cell_type": "code",
   "execution_count": 5,
   "metadata": {},
   "outputs": [],
   "source": [
    "#Loading the image\n",
    "image_read=cv2.imread('C:\\\\Users\\\\z014413\\\\Pictures\\\\Photo_Recent.jpeg')"
   ]
  },
  {
   "cell_type": "code",
   "execution_count": 6,
   "metadata": {},
   "outputs": [
    {
     "name": "stdout",
     "output_type": "stream",
     "text": [
      "(311, 315, 3)\n"
     ]
    }
   ],
   "source": [
    "#Checking the image height,width & colour channel\n",
    "print(image_read.shape)"
   ]
  },
  {
   "cell_type": "code",
   "execution_count": 7,
   "metadata": {},
   "outputs": [],
   "source": [
    "#Display the image with the given file name.\n",
    "cv2.imshow('Ramesh',image_read)\n",
    "\n",
    "#Using wait function\n",
    "cv2.waitKey(0)\n",
    "\n",
    "#Close the open window\n",
    "cv2.destroyAllWindows()"
   ]
  },
  {
   "cell_type": "code",
   "execution_count": 8,
   "metadata": {},
   "outputs": [],
   "source": [
    "#converting the image to Gray Scale\n",
    "image_read=cv2.imread('C:\\\\Users\\\\z014413\\\\Pictures\\\\Photo_Recent.jpeg')\n",
    "gray_image=cv2.cvtColor(image_read,cv2.COLOR_BGR2GRAY)\n",
    "cv2.imshow('GrayImg',gray_image)\n",
    "cv2.waitKey(0)\n",
    "cv2.destroyAllWindows()"
   ]
  },
  {
   "cell_type": "code",
   "execution_count": 9,
   "metadata": {},
   "outputs": [],
   "source": [
    "#Another way of converting the color image to gray scale\n",
    "Another_gray_image=cv2.imread('C:\\\\Users\\\\z014413\\\\Pictures\\\\Photo_Recent.jpeg',0)\n",
    "#gray_image=cv2.cvtColor(image_read,cv2.COLOR_BGR2GRAY)\n",
    "cv2.imshow('GrayImg',Another_gray_image)\n",
    "cv2.waitKey(0)\n",
    "cv2.destroyAllWindows()"
   ]
  },
  {
   "cell_type": "code",
   "execution_count": 13,
   "metadata": {},
   "outputs": [
    {
     "data": {
      "text/plain": [
       "True"
      ]
     },
     "execution_count": 13,
     "metadata": {},
     "output_type": "execute_result"
    }
   ],
   "source": [
    "#Saving the converted gray scale image \n",
    "cv2.imwrite('output.jpg',gray_image)"
   ]
  },
  {
   "cell_type": "code",
   "execution_count": null,
   "metadata": {},
   "outputs": [],
   "source": []
  }
 ],
 "metadata": {
  "kernelspec": {
   "display_name": "Python 3",
   "language": "python",
   "name": "python3"
  },
  "language_info": {
   "codemirror_mode": {
    "name": "ipython",
    "version": 3
   },
   "file_extension": ".py",
   "mimetype": "text/x-python",
   "name": "python",
   "nbconvert_exporter": "python",
   "pygments_lexer": "ipython3",
   "version": "3.7.6"
  }
 },
 "nbformat": 4,
 "nbformat_minor": 4
}
